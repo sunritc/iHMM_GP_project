{
 "cells": [
  {
   "cell_type": "markdown",
   "id": "444af61e",
   "metadata": {},
   "source": [
    "# Demo 6: GP vs SGP"
   ]
  },
  {
   "cell_type": "markdown",
   "id": "c227a79d",
   "metadata": {},
   "source": [
    "Question: Performance and timing if SGPs are replaced by GP"
   ]
  },
  {
   "cell_type": "code",
   "execution_count": 1,
   "id": "a2299667",
   "metadata": {},
   "outputs": [
    {
     "name": "stderr",
     "output_type": "stream",
     "text": [
      "/Users/sunrit/opt/anaconda3/lib/python3.7/site-packages/scipy/interpolate/fitpack2.py:1058: UserWarning: \n",
      "The required storage space exceeds the available storage space: nxest\n",
      "or nyest too small, or s too small.\n",
      "The weighted least-squares spline corresponds to the current set of\n",
      "knots.\n",
      "  warnings.warn(message)\n"
     ]
    }
   ],
   "source": [
    "import os\n",
    "os.environ['TF_CPP_MIN_LOG_LEVEL'] = '3'\n",
    "#do not use these variable names: f0, f1, f2, g1, g2, g3, g5, f_new1, f_new2, f_new3\n",
    "\n",
    "from iHMM_GP.step1_utils import *\n",
    "from iHMM_GP.data_setup import *\n",
    "from iHMM_GP.main import fit_model"
   ]
  },
  {
   "cell_type": "code",
   "execution_count": 2,
   "id": "099c7d52",
   "metadata": {},
   "outputs": [],
   "source": [
    "def demo6_2d(T=600, n=30, sigma2=1):\n",
    "    T_test = 100\n",
    "    from sklearn.metrics import rand_score, adjusted_mutual_info_score, v_measure_score # (rand, NMI, vscore)\n",
    "    # create data\n",
    "    data, s = sim_new_data2(f_true, Pi_true, T=T+T_test, n=n, sigma2=sigma2)\n",
    "\n",
    "    # get training data - for t in tau, hold out q% of the data\n",
    "    data_train = []\n",
    "\n",
    "    for t in range(T):\n",
    "        X, Y = data[t]\n",
    "        data_train.append((X, Y))\n",
    "\n",
    "    # test 3 - new sequence state prediction\n",
    "    data_test3 = data[T:]\n",
    "\n",
    "    # state labels:\n",
    "    s_train_true = s[0:T]\n",
    "    s_test_true = s[T:]\n",
    "    \n",
    "    x, y = np.meshgrid(np.linspace(-1, 1, 10), np.linspace(-1, 1, 10))\n",
    "    Z = np.array([[x[i, j], y[i, j]] for i in range(10) for j in range(10)])\n",
    "    \n",
    "    # SGP\n",
    "    K_opt0, s_final_train0, final_models0, hmm_loglik_train0, Pi_hat0, sigma20, time0 = fit_model(data_train, m0=200, n0=5, iHMM_params=(3,2,1), Z=Z, k_ls_bounds=(0.01, 10), k_var_bounds=(0.01, 10), noise_var_bounds=(1e-4, 10), Lmax=10, n_jobs=-1, N_max=500, type='SGP', verbose=False)\n",
    "    logliks_test = get_likelihoods(data_test3, final_models0, sigma20); logliks_test = np.array(logliks_test)\n",
    "    s_final_test0 = viterbi(None, None, Pi_hat0, logliks_test)\n",
    "    hmm_loglik_test0 = compute_likelihood_HMM(Pi_hat0, logliks_test)\n",
    "    train_label_acc0 = (rand_score(s_train_true, s_final_train0), adjusted_mutual_info_score(s_train_true, s_final_train0), v_measure_score(s_train_true, s_final_train0))\n",
    "    test_label_acc0 = (rand_score(s_test_true, s_final_test0), adjusted_mutual_info_score(s_test_true, s_final_test0), v_measure_score(s_test_true, s_final_test0))\n",
    "    \n",
    "    # GP\n",
    "    K_opt1, s_final_train1, final_models1, hmm_loglik_train1, Pi_hat1, sigma21, time1 = fit_model(data_train, m0=200, n0=5, iHMM_params=(3,2,1), Z=Z, k_ls_bounds=(0.01, 10), k_var_bounds=(0.01, 10), noise_var_bounds=(1e-4, 10), Lmax=10, n_jobs=-1, N_max=500, type='GP', verbose=False)\n",
    "    logliks_test = get_likelihoods(data_test3, final_models1, sigma21); logliks_test = np.array(logliks_test)\n",
    "    s_final_test1 = viterbi(None, None, Pi_hat1, logliks_test)\n",
    "    hmm_loglik_test1 = compute_likelihood_HMM(Pi_hat1, logliks_test)\n",
    "    train_label_acc1 = (rand_score(s_train_true, s_final_train1), adjusted_mutual_info_score(s_train_true, s_final_train1), v_measure_score(s_train_true, s_final_train1))\n",
    "    test_label_acc1 = (rand_score(s_test_true, s_final_test1), adjusted_mutual_info_score(s_test_true, s_final_test1), v_measure_score(s_test_true, s_final_test1))\n",
    "    \n",
    "    res_SGP = {'K': K_opt0,\n",
    "            'time':time0,\n",
    "            'loglik_train': hmm_loglik_train0,\n",
    "            'loglik_test': hmm_loglik_test0,\n",
    "            'train_accuracy': train_label_acc0,\n",
    "            'test_accuracy': test_label_acc0}\n",
    "    res_GP = {'K': K_opt1,\n",
    "            'time':time1,\n",
    "            'loglik_train': hmm_loglik_train1,\n",
    "            'loglik_test': hmm_loglik_test1,\n",
    "            'train_accuracy': train_label_acc1,\n",
    "            'test_accuracy': test_label_acc1}\n",
    "    \n",
    "    return (res_SGP, res_GP)"
   ]
  },
  {
   "cell_type": "code",
   "execution_count": 3,
   "id": "e957ddbe",
   "metadata": {},
   "outputs": [
    {
     "name": "stdout",
     "output_type": "stream",
     "text": [
      "converged in  3\n",
      "converged in  3\n"
     ]
    }
   ],
   "source": [
    "result = demo6_2d(T=600, n=30, sigma2=1)"
   ]
  },
  {
   "cell_type": "code",
   "execution_count": 4,
   "id": "64d65cb7",
   "metadata": {},
   "outputs": [
    {
     "data": {
      "text/plain": [
       "({'K': 8,\n",
       "  'time': 160.89381647109985,\n",
       "  'loglik_train': -51495.22825341896,\n",
       "  'loglik_test': -8710.718868639098,\n",
       "  'train_accuracy': (0.9742904841402337,\n",
       "   0.9620781891906884,\n",
       "   0.9629390900306144),\n",
       "  'test_accuracy': (0.9797979797979798,\n",
       "   0.9609963197368085,\n",
       "   0.9672842013848728)},\n",
       " {'K': 9,\n",
       "  'time': 1622.7091319561005,\n",
       "  'loglik_train': -52242.47065754584,\n",
       "  'loglik_test': -8806.043563084322,\n",
       "  'train_accuracy': (0.9167334446299388,\n",
       "   0.8756273837955512,\n",
       "   0.8789836851969332),\n",
       "  'test_accuracy': (0.9050505050505051,\n",
       "   0.8481891524730883,\n",
       "   0.8750905978814747)})"
      ]
     },
     "execution_count": 4,
     "metadata": {},
     "output_type": "execute_result"
    }
   ],
   "source": [
    "result"
   ]
  },
  {
   "cell_type": "code",
   "execution_count": 5,
   "id": "e2e1402a",
   "metadata": {},
   "outputs": [
    {
     "name": "stdout",
     "output_type": "stream",
     "text": [
      "working rep  0\n",
      "converged in  6\n",
      "converged in  4\n",
      "working rep  1\n",
      "converged in  3\n",
      "converged in  3\n",
      "working rep  2\n",
      "converged in  3\n",
      "converged in  3\n",
      "working rep  3\n",
      "converged in  7\n"
     ]
    },
    {
     "name": "stderr",
     "output_type": "stream",
     "text": [
      "/Users/sunrit/opt/anaconda3/lib/python3.7/site-packages/joblib/externals/loky/process_executor.py:705: UserWarning: A worker stopped while some jobs were given to the executor. This can be caused by a too short worker timeout or by a memory leak.\n",
      "  \"timeout or by a memory leak.\", UserWarning\n"
     ]
    },
    {
     "name": "stdout",
     "output_type": "stream",
     "text": [
      "converged in  5\n",
      "working rep  4\n",
      "converged in  7\n",
      "converged in  5\n",
      "working rep  5\n"
     ]
    },
    {
     "name": "stderr",
     "output_type": "stream",
     "text": [
      "/Users/sunrit/Library/CloudStorage/GoogleDrive-sunritc@umich.edu/My Drive/Research/iHMM-GP_UAI/New_Codes/iHMM_GP/step1_utils.py:564: ConvergenceWarning: Number of distinct clusters (23) found smaller than n_clusters (24). Possibly due to duplicate points in X.\n",
      "  kmeanModel.fit(means)\n"
     ]
    },
    {
     "name": "stdout",
     "output_type": "stream",
     "text": [
      "converged in  4\n"
     ]
    },
    {
     "name": "stderr",
     "output_type": "stream",
     "text": [
      "/Users/sunrit/opt/anaconda3/lib/python3.7/site-packages/joblib/externals/loky/process_executor.py:705: UserWarning: A worker stopped while some jobs were given to the executor. This can be caused by a too short worker timeout or by a memory leak.\n",
      "  \"timeout or by a memory leak.\", UserWarning\n"
     ]
    },
    {
     "name": "stdout",
     "output_type": "stream",
     "text": [
      "converged in  6\n",
      "working rep  6\n"
     ]
    },
    {
     "name": "stderr",
     "output_type": "stream",
     "text": [
      "/Users/sunrit/Library/CloudStorage/GoogleDrive-sunritc@umich.edu/My Drive/Research/iHMM-GP_UAI/New_Codes/iHMM_GP/step1_utils.py:564: ConvergenceWarning: Number of distinct clusters (25) found smaller than n_clusters (26). Possibly due to duplicate points in X.\n",
      "  kmeanModel.fit(means)\n"
     ]
    },
    {
     "name": "stdout",
     "output_type": "stream",
     "text": [
      "converged in  6\n",
      "converged in  4\n",
      "working rep  7\n",
      "converged in  4\n",
      "converged in  3\n",
      "working rep  8\n",
      "converged in  3\n"
     ]
    },
    {
     "name": "stderr",
     "output_type": "stream",
     "text": [
      "/Users/sunrit/opt/anaconda3/lib/python3.7/site-packages/joblib/externals/loky/process_executor.py:705: UserWarning: A worker stopped while some jobs were given to the executor. This can be caused by a too short worker timeout or by a memory leak.\n",
      "  \"timeout or by a memory leak.\", UserWarning\n"
     ]
    },
    {
     "name": "stdout",
     "output_type": "stream",
     "text": [
      "converged in  7\n",
      "working rep  9\n"
     ]
    },
    {
     "name": "stderr",
     "output_type": "stream",
     "text": [
      "/Users/sunrit/Library/CloudStorage/GoogleDrive-sunritc@umich.edu/My Drive/Research/iHMM-GP_UAI/New_Codes/iHMM_GP/step1_utils.py:564: ConvergenceWarning: Number of distinct clusters (23) found smaller than n_clusters (24). Possibly due to duplicate points in X.\n",
      "  kmeanModel.fit(means)\n"
     ]
    },
    {
     "name": "stdout",
     "output_type": "stream",
     "text": [
      "converged in  4\n"
     ]
    },
    {
     "name": "stderr",
     "output_type": "stream",
     "text": [
      "/Users/sunrit/Library/CloudStorage/GoogleDrive-sunritc@umich.edu/My Drive/Research/iHMM-GP_UAI/New_Codes/iHMM_GP/step1_utils.py:564: ConvergenceWarning: Number of distinct clusters (23) found smaller than n_clusters (24). Possibly due to duplicate points in X.\n",
      "  kmeanModel.fit(means)\n",
      "/Users/sunrit/opt/anaconda3/lib/python3.7/site-packages/joblib/externals/loky/process_executor.py:705: UserWarning: A worker stopped while some jobs were given to the executor. This can be caused by a too short worker timeout or by a memory leak.\n",
      "  \"timeout or by a memory leak.\", UserWarning\n"
     ]
    },
    {
     "name": "stdout",
     "output_type": "stream",
     "text": [
      "converged in  8\n"
     ]
    }
   ],
   "source": [
    "import pickle\n",
    "from tqdm import tqdm\n",
    "results = []\n",
    "\n",
    "for rep in range(10):\n",
    "    print('working rep ', rep)\n",
    "    res = demo6_2d(T=600, n=30, sigma2=1)\n",
    "    results.append(res)\n",
    "    \n",
    "pickle.dump(results, open( \"new_simulation_results/demo6_GP.p\", \"wb\" ) )"
   ]
  },
  {
   "cell_type": "code",
   "execution_count": null,
   "id": "7c6aa723",
   "metadata": {},
   "outputs": [],
   "source": []
  },
  {
   "cell_type": "code",
   "execution_count": null,
   "id": "4db001c1",
   "metadata": {},
   "outputs": [],
   "source": []
  }
 ],
 "metadata": {
  "kernelspec": {
   "display_name": "Python 3 (ipykernel)",
   "language": "python",
   "name": "python3"
  },
  "language_info": {
   "codemirror_mode": {
    "name": "ipython",
    "version": 3
   },
   "file_extension": ".py",
   "mimetype": "text/x-python",
   "name": "python",
   "nbconvert_exporter": "python",
   "pygments_lexer": "ipython3",
   "version": "3.7.4"
  }
 },
 "nbformat": 4,
 "nbformat_minor": 5
}
