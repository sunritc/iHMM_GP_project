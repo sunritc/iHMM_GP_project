{
 "cells": [
  {
   "cell_type": "markdown",
   "id": "18936092",
   "metadata": {},
   "source": [
    "# Demo 5: Effect of $n_0$"
   ]
  },
  {
   "cell_type": "markdown",
   "id": "5c7cefca",
   "metadata": {},
   "source": [
    "Compare performance of $n_0 = 0, 5, 10$"
   ]
  },
  {
   "cell_type": "code",
   "execution_count": null,
   "id": "a24fc48c",
   "metadata": {},
   "outputs": [],
   "source": []
  },
  {
   "cell_type": "code",
   "execution_count": 1,
   "id": "0ca974f2",
   "metadata": {},
   "outputs": [
    {
     "name": "stderr",
     "output_type": "stream",
     "text": [
      "/Users/sunrit/opt/anaconda3/lib/python3.7/site-packages/scipy/interpolate/fitpack2.py:1058: UserWarning: \n",
      "The required storage space exceeds the available storage space: nxest\n",
      "or nyest too small, or s too small.\n",
      "The weighted least-squares spline corresponds to the current set of\n",
      "knots.\n",
      "  warnings.warn(message)\n"
     ]
    }
   ],
   "source": [
    "import os\n",
    "os.environ['TF_CPP_MIN_LOG_LEVEL'] = '3'\n",
    "#do not use these variable names: f0, f1, f2, g1, g2, g3, g5, f_new1, f_new2, f_new3\n",
    "\n",
    "from iHMM_GP.step1_utils import *\n",
    "from iHMM_GP.data_setup import *\n",
    "from iHMM_GP.main import fit_model"
   ]
  },
  {
   "cell_type": "code",
   "execution_count": 2,
   "id": "63f8c8ac",
   "metadata": {},
   "outputs": [],
   "source": [
    "def demo5_2d(T=600, n=30, sigma2=1):\n",
    "    T_test = 50\n",
    "    from sklearn.metrics import rand_score, adjusted_mutual_info_score, v_measure_score # (rand, NMI, vscore)\n",
    "    # create data\n",
    "    data, s = sim_new_data2(f_true, Pi_true, T=T+T_test, n=n, sigma2=sigma2)\n",
    "\n",
    "    # get training data - for t in tau, hold out q% of the data\n",
    "    data_train = []\n",
    "\n",
    "    for t in range(T):\n",
    "        X, Y = data[t]\n",
    "        data_train.append((X, Y))\n",
    "\n",
    "    # test 3 - new sequence state prediction\n",
    "    data_test3 = data[T:]\n",
    "\n",
    "    # state labels:\n",
    "    s_train_true = s[0:T]\n",
    "    s_test_true = s[T:]\n",
    "    \n",
    "    x, y = np.meshgrid(np.linspace(-1, 1, 10), np.linspace(-1, 1, 10))\n",
    "    Z = np.array([[x[i, j], y[i, j]] for i in range(10) for j in range(10)])\n",
    "    \n",
    "    # n0 = 0\n",
    "    K_opt0, s_final_train0, final_models0, hmm_loglik_train0, Pi_hat0, sigma20, time0 = fit_model(data_train, m0=T, n0=0, iHMM_params=(3,3,3), Z=Z, k_ls_bounds=(0.01, 10), k_var_bounds=(0.01, 10), noise_var_bounds=(1e-4, 10), Lmax=5, n_jobs=-1, N_max=500, verbose=False)\n",
    "    logliks_test = get_likelihoods(data_test3, final_models0, sigma20); logliks_test = np.array(logliks_test)\n",
    "    s_final_test0 = viterbi(None, None, Pi_hat0, logliks_test)\n",
    "    hmm_loglik_test0 = compute_likelihood_HMM(Pi_hat0, logliks_test)\n",
    "    train_label_acc0 = (rand_score(s_train_true, s_final_train0), adjusted_mutual_info_score(s_train_true, s_final_train0), v_measure_score(s_train_true, s_final_train0))\n",
    "    test_label_acc0 = (rand_score(s_test_true, s_final_test0), adjusted_mutual_info_score(s_test_true, s_final_test0), v_measure_score(s_test_true, s_final_test0))\n",
    "    \n",
    "    # n0 = 5\n",
    "    K_opt1, s_final_train1, final_models1, hmm_loglik_train1, Pi_hat1, sigma21, time1 = fit_model(data_train, m0=T, n0=4, iHMM_params=(3,3,3), Z=Z, k_ls_bounds=(0.01, 10), k_var_bounds=(0.01, 10), noise_var_bounds=(1e-4, 10), Lmax=5, n_jobs=-1, N_max=500, verbose=False)\n",
    "    logliks_test = get_likelihoods(data_test3, final_models1, sigma21); logliks_test = np.array(logliks_test)\n",
    "    s_final_test1 = viterbi(None, None, Pi_hat1, logliks_test)\n",
    "    hmm_loglik_test1 = compute_likelihood_HMM(Pi_hat1, logliks_test)\n",
    "    train_label_acc1 = (rand_score(s_train_true, s_final_train1), adjusted_mutual_info_score(s_train_true, s_final_train1), v_measure_score(s_train_true, s_final_train1))\n",
    "    test_label_acc1 = (rand_score(s_test_true, s_final_test1), adjusted_mutual_info_score(s_test_true, s_final_test1), v_measure_score(s_test_true, s_final_test1))\n",
    "    \n",
    "    # n0 = 20\n",
    "    K_opt2, s_final_train2, final_models2, hmm_loglik_train2, Pi_hat2, sigma22, time2 = fit_model(data_train, m0=T, n0=10, iHMM_params=(3,3,3), Z=Z, k_ls_bounds=(0.01, 10), k_var_bounds=(0.01, 10), noise_var_bounds=(1e-4, 10), Lmax=5, n_jobs=-1, N_max=500, verbose=False)\n",
    "    logliks_test = get_likelihoods(data_test3, final_models2, sigma22); logliks_test = np.array(logliks_test)\n",
    "    s_final_test2 = viterbi(None, None, Pi_hat2, logliks_test)\n",
    "    hmm_loglik_test2 = compute_likelihood_HMM(Pi_hat2, logliks_test)\n",
    "    train_label_acc2 = (rand_score(s_train_true, s_final_train2), adjusted_mutual_info_score(s_train_true, s_final_train2), v_measure_score(s_train_true, s_final_train2))\n",
    "    test_label_acc2 = (rand_score(s_test_true, s_final_test2), adjusted_mutual_info_score(s_test_true, s_final_test2), v_measure_score(s_test_true, s_final_test2))\n",
    "    \n",
    "    res_1 = {'K': K_opt0,\n",
    "            'time':time0,\n",
    "            'loglik_train': hmm_loglik_train0,\n",
    "            'loglik_test': hmm_loglik_test0,\n",
    "            'train_accuracy': train_label_acc0,\n",
    "            'test_accuracy': test_label_acc0}\n",
    "    res_5 = {'K': K_opt1,\n",
    "            'time':time1,\n",
    "            'loglik_train': hmm_loglik_train1,\n",
    "            'loglik_test': hmm_loglik_test1,\n",
    "            'train_accuracy': train_label_acc1,\n",
    "            'test_accuracy': test_label_acc1}\n",
    "    res_20 = {'K': K_opt2,\n",
    "            'time':time2,\n",
    "            'loglik_train': hmm_loglik_train2,\n",
    "            'loglik_test': hmm_loglik_test2,\n",
    "            'train_accuracy': train_label_acc2,\n",
    "            'test_accuracy': test_label_acc2}\n",
    "    \n",
    "    return (res_1, res_5, res_20)"
   ]
  },
  {
   "cell_type": "code",
   "execution_count": 3,
   "id": "34ed20ad",
   "metadata": {},
   "outputs": [
    {
     "name": "stdout",
     "output_type": "stream",
     "text": [
      "converged in  3\n",
      "converged in  3\n"
     ]
    },
    {
     "name": "stderr",
     "output_type": "stream",
     "text": [
      "/Users/sunrit/Library/CloudStorage/GoogleDrive-sunritc@umich.edu/My Drive/Research/iHMM-GP_UAI/New_Codes/iHMM_GP/step1_utils.py:599: ConvergenceWarning: Number of distinct clusters (7) found smaller than n_clusters (8). Possibly due to duplicate points in X.\n",
      "  kmeanModel.fit(means)\n"
     ]
    },
    {
     "name": "stdout",
     "output_type": "stream",
     "text": [
      "converged in  4\n"
     ]
    }
   ],
   "source": [
    "result = demo5_2d(T=120, n=50, sigma2=1)"
   ]
  },
  {
   "cell_type": "code",
   "execution_count": 4,
   "id": "d9f0d027",
   "metadata": {},
   "outputs": [
    {
     "data": {
      "text/plain": [
       "({'K': 11,\n",
       "  'time': 50.828120946884155,\n",
       "  'loglik_train': -16796.3441406345,\n",
       "  'loglik_test': -7182.042772727272,\n",
       "  'train_accuracy': (0.9938375350140056,\n",
       "   0.9760531242131615,\n",
       "   0.9800664360515544),\n",
       "  'test_accuracy': (0.9918367346938776,\n",
       "   0.9623158595003942,\n",
       "   0.9752721305697559)},\n",
       " {'K': 9,\n",
       "  'time': 44.8338508605957,\n",
       "  'loglik_train': -16872.99275597312,\n",
       "  'loglik_test': -7186.399212647396,\n",
       "  'train_accuracy': (1.0, 1.0, 1.0),\n",
       "  'test_accuracy': (0.9918367346938776,\n",
       "   0.9623158595003942,\n",
       "   0.9752721305697559)},\n",
       " {'K': 7,\n",
       "  'time': 45.503087759017944,\n",
       "  'loglik_train': -17193.77460172358,\n",
       "  'loglik_test': -7318.903072440326,\n",
       "  'train_accuracy': (0.946218487394958, 0.8705489327242312, 0.885528441560388),\n",
       "  'test_accuracy': (0.9346938775510204,\n",
       "   0.8112712091638687,\n",
       "   0.8650035306709196)})"
      ]
     },
     "execution_count": 4,
     "metadata": {},
     "output_type": "execute_result"
    }
   ],
   "source": [
    "result"
   ]
  },
  {
   "cell_type": "code",
   "execution_count": 12,
   "id": "6dc81f4c",
   "metadata": {},
   "outputs": [
    {
     "name": "stdout",
     "output_type": "stream",
     "text": [
      "ITERATION: 0\n",
      "converged in  2\n",
      "converged in  2\n"
     ]
    },
    {
     "name": "stderr",
     "output_type": "stream",
     "text": [
      "/Users/sunrit/Library/CloudStorage/GoogleDrive-sunritc@umich.edu/My Drive/Research/iHMM-GP_UAI/New_Codes/iHMM_GP/step1_utils.py:599: ConvergenceWarning: Number of distinct clusters (8) found smaller than n_clusters (9). Possibly due to duplicate points in X.\n",
      "  kmeanModel.fit(means)\n"
     ]
    },
    {
     "name": "stdout",
     "output_type": "stream",
     "text": [
      "did not converge\n",
      "ITERATION: 1\n",
      "converged in  2\n"
     ]
    },
    {
     "name": "stderr",
     "output_type": "stream",
     "text": [
      "/Users/sunrit/Library/CloudStorage/GoogleDrive-sunritc@umich.edu/My Drive/Research/iHMM-GP_UAI/New_Codes/iHMM_GP/step1_utils.py:599: ConvergenceWarning: Number of distinct clusters (7) found smaller than n_clusters (8). Possibly due to duplicate points in X.\n",
      "  kmeanModel.fit(means)\n"
     ]
    },
    {
     "name": "stdout",
     "output_type": "stream",
     "text": [
      "converged in  2\n",
      "converged in  2\n",
      "ITERATION: 2\n",
      "converged in  3\n",
      "converged in  2\n"
     ]
    },
    {
     "name": "stderr",
     "output_type": "stream",
     "text": [
      "/Users/sunrit/Library/CloudStorage/GoogleDrive-sunritc@umich.edu/My Drive/Research/iHMM-GP_UAI/New_Codes/iHMM_GP/step1_utils.py:599: ConvergenceWarning: Number of distinct clusters (7) found smaller than n_clusters (8). Possibly due to duplicate points in X.\n",
      "  kmeanModel.fit(means)\n"
     ]
    },
    {
     "name": "stdout",
     "output_type": "stream",
     "text": [
      "converged in  4\n",
      "ITERATION: 3\n",
      "converged in  2\n",
      "converged in  2\n",
      "converged in  2\n",
      "ITERATION: 4\n",
      "converged in  2\n",
      "converged in  2\n"
     ]
    },
    {
     "name": "stderr",
     "output_type": "stream",
     "text": [
      "/Users/sunrit/Library/CloudStorage/GoogleDrive-sunritc@umich.edu/My Drive/Research/iHMM-GP_UAI/New_Codes/iHMM_GP/step1_utils.py:599: ConvergenceWarning: Number of distinct clusters (6) found smaller than n_clusters (9). Possibly due to duplicate points in X.\n",
      "  kmeanModel.fit(means)\n"
     ]
    },
    {
     "name": "stdout",
     "output_type": "stream",
     "text": [
      "converged in  3\n",
      "ITERATION: 5\n",
      "converged in  3\n",
      "converged in  3\n",
      "converged in  3\n",
      "ITERATION: 6\n",
      "converged in  2\n",
      "converged in  2\n",
      "converged in  2\n"
     ]
    }
   ],
   "source": [
    "#results = []\n",
    "\n",
    "for i in range(7):\n",
    "    print('ITERATION:', i)\n",
    "    result = demo5_2d(T=120, n=50, sigma2=1)\n",
    "    results.append(result)"
   ]
  },
  {
   "cell_type": "code",
   "execution_count": 13,
   "id": "76b6e1c3",
   "metadata": {},
   "outputs": [
    {
     "data": {
      "text/plain": [
       "30"
      ]
     },
     "execution_count": 13,
     "metadata": {},
     "output_type": "execute_result"
    }
   ],
   "source": [
    "len(results)"
   ]
  },
  {
   "cell_type": "code",
   "execution_count": 14,
   "id": "907acf2e",
   "metadata": {},
   "outputs": [],
   "source": [
    "import pickle\n",
    "pickle.dump(results, open( \"new_simulation_results/demo5_n0.p\", \"wb\" ) )"
   ]
  },
  {
   "cell_type": "code",
   "execution_count": null,
   "id": "d1bb2be4",
   "metadata": {},
   "outputs": [],
   "source": []
  }
 ],
 "metadata": {
  "kernelspec": {
   "display_name": "Python 3 (ipykernel)",
   "language": "python",
   "name": "python3"
  },
  "language_info": {
   "codemirror_mode": {
    "name": "ipython",
    "version": 3
   },
   "file_extension": ".py",
   "mimetype": "text/x-python",
   "name": "python",
   "nbconvert_exporter": "python",
   "pygments_lexer": "ipython3",
   "version": "3.7.4"
  }
 },
 "nbformat": 4,
 "nbformat_minor": 5
}
