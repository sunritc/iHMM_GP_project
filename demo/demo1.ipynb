{
 "cells": [
  {
   "cell_type": "code",
   "execution_count": 1,
   "id": "81fd94da",
   "metadata": {},
   "outputs": [
    {
     "name": "stderr",
     "output_type": "stream",
     "text": [
      "/Users/sunrit/opt/anaconda3/lib/python3.7/site-packages/scipy/interpolate/fitpack2.py:1058: UserWarning: \n",
      "The required storage space exceeds the available storage space: nxest\n",
      "or nyest too small, or s too small.\n",
      "The weighted least-squares spline corresponds to the current set of\n",
      "knots.\n",
      "  warnings.warn(message)\n"
     ]
    }
   ],
   "source": [
    "import os\n",
    "os.environ['TF_CPP_MIN_LOG_LEVEL'] = '3'\n",
    "#do not use these variable names: f0, f1, f2, g1, g2, g3, g5, f_new1, f_new2, f_new3\n",
    "\n",
    "from iHMM_GP.step1_utils import *\n",
    "from iHMM_GP.data_setup import *"
   ]
  },
  {
   "cell_type": "markdown",
   "id": "b3644d7d",
   "metadata": {},
   "source": [
    "# Demo 1\n",
    "\n",
    "Compare only forward pass vs with refinement. 2 different settings\n"
   ]
  },
  {
   "cell_type": "markdown",
   "id": "cfad9c9b",
   "metadata": {},
   "source": [
    "## Setting 1:\n",
    "\n",
    "$R^2\\to R^2$ vector fields, $K=9, T=100, n=50, \\sigma^2=1$.\n",
    "\n",
    "No held out is done. Also, no spatial censoring is done."
   ]
  },
  {
   "cell_type": "markdown",
   "id": "5751007e",
   "metadata": {},
   "source": [
    "Get the following:\n",
    "\n",
    "0. number of components\n",
    "1. loglikelihood on train and test\n",
    "2. label estimation accuracy on train and test\n",
    "3. time"
   ]
  },
  {
   "cell_type": "code",
   "execution_count": 2,
   "id": "fbd3c975",
   "metadata": {},
   "outputs": [],
   "source": [
    "from sklearn.utils._testing import ignore_warnings\n",
    "from sklearn.exceptions import ConvergenceWarning\n",
    "\n",
    "@ignore_warnings(category=ConvergenceWarning)\n",
    "def demo1_2d(T=100, n=50, sigma2=0.8):\n",
    "    \n",
    "    T_test = 50\n",
    "\n",
    "    # create data\n",
    "    data, s = sim_new_data2(f_true, Pi_true, T=T+T_test, n=n, sigma2=sigma2)\n",
    "\n",
    "    # get training data - for t in tau, hold out q% of the data\n",
    "    data_train = []\n",
    "\n",
    "    for t in range(T):\n",
    "        X, Y = data[t]\n",
    "        data_train.append((X, Y))\n",
    "\n",
    "    # test 3 - new sequence state prediction\n",
    "    data_test3 = data[T:]\n",
    "\n",
    "    # state labels:\n",
    "    s_train_true = s[0:T]\n",
    "    s_test_true = s[T:]\n",
    "    \n",
    "    # setup hyperparameters\n",
    "    iHMM_params = (3, 3, 3)\n",
    "\n",
    "    x, y = np.meshgrid(np.linspace(-1, 1, 10), np.linspace(-1, 1, 10))\n",
    "    Z = np.array([[x[i, j], y[i, j]] for i in range(10) for j in range(10)])\n",
    "\n",
    "    # fit GPs\n",
    "    import time\n",
    "    time2 = time.time()\n",
    "    marginal_lls, sigma2, all_kernels = get_all_GPs(data_train)\n",
    "    time2 = time.time() - time2\n",
    "    \n",
    "    # only forward pass\n",
    "    \n",
    "    from sklearn.metrics import rand_score, adjusted_mutual_info_score, v_measure_score # (rand, NMI, vscore)\n",
    "    time0 = time.time()\n",
    "    s1, o1, models1, N1, M1 = forward_pass(data_train, iHMM_params, marginal_lls, all_kernels, sigma2, Z)\n",
    "    logliks_train = get_likelihoods(data_train, models1, sigma2); logliks_train = np.array(logliks_train)\n",
    "    K_opt = len(np.unique(s1))\n",
    "    Pi_est, _ = get_nm(s1, np.zeros(T)); row_sums = Pi_est.sum(axis=1)\n",
    "    row_sums = np.clip(row_sums, 1, 1e5)\n",
    "    Pi_hat = Pi_est / row_sums[:, np.newaxis]\n",
    "    for j in range(K_opt):\n",
    "        if row_sums[j] == 0:\n",
    "            Pi_hat[j] = np.ones(K_opt) /  K_opt\n",
    "            \n",
    "    s_final_train = s1\n",
    "    final_models = models1\n",
    "    \n",
    "    logliks_train = get_likelihoods(data_train, final_models, sigma2); logliks_train = np.array(logliks_train) #\n",
    "    time0 = time.time() - time0\n",
    "    \n",
    "    logliks_test = get_likelihoods(data_test3, final_models, sigma2); logliks_test = np.array(logliks_test)\n",
    "    s_final_test = viterbi(None, None, Pi_hat, logliks_test)\n",
    "\n",
    "    hmm_loglik_train = compute_likelihood_HMM(Pi_hat, logliks_train)\n",
    "    hmm_loglik_test = compute_likelihood_HMM(Pi_hat, logliks_test)\n",
    "\n",
    "    train_label_acc = (rand_score(s_train_true, s_final_train), adjusted_mutual_info_score(s_train_true, s_final_train), v_measure_score(s_train_true, s_final_train))\n",
    "    test_label_acc = (rand_score(s_test_true, s_final_test), adjusted_mutual_info_score(s_test_true, s_final_test), v_measure_score(s_test_true, s_final_test))\n",
    "\n",
    "    forward_result = {'K': K_opt,\n",
    "                     'hmm_loglik_train': hmm_loglik_train,\n",
    "                     'hmm_loglik_test': hmm_loglik_test,\n",
    "                     'train_label_accuracy': train_label_acc,\n",
    "                     'test_label_accuracy': test_label_acc,\n",
    "                     'time': time0 + time2}\n",
    "\n",
    "    time1 = time.time()\n",
    "    s2, o2, models2, N2, M2 = refinement(s1, o1, N1, M1, models1, iHMM_params, sigma2, marginal_lls, data_train, min_cluster_size=2, verbose=False)\n",
    "    logliks_train = get_likelihoods(data_train, models2, sigma2); logliks_train = np.array(logliks_train)\n",
    "    Pi_est, _ = get_nm(s2, np.zeros(T)); row_sums = Pi_est.sum(axis=1)\n",
    "    Pi_hat = Pi_est / row_sums[:, np.newaxis]\n",
    "    s_final_train = viterbi(None, None, Pi_hat, logliks_train)\n",
    "\n",
    "    # check if any cluster has 0 time points, can remove it\n",
    "    s_final_train = rename_s(s_final_train)[1]\n",
    "    K_opt = len(np.unique(s_final_train))\n",
    "    time1 = time.time() - time1\n",
    "\n",
    "    final_models = get_final_results(data_train, s_final_train, sigma2, Z, n_jobs=-1, N_max=1000) #new 2 lines\n",
    "    logliks_train = get_likelihoods(data_train, final_models, sigma2); logliks_train = np.array(logliks_train) #\n",
    "    Pi_est, _ = get_nm(s_final_train, np.zeros(T)); row_sums = Pi_est.sum(axis=1)\n",
    "    Pi_hat = Pi_est / row_sums[:, np.newaxis]\n",
    "    \n",
    "    logliks_test = get_likelihoods(data_test3, final_models, sigma2); logliks_test = np.array(logliks_test)\n",
    "    s_final_test = viterbi(None, None, Pi_hat, logliks_test)\n",
    "\n",
    "    hmm_loglik_train = compute_likelihood_HMM(Pi_hat, logliks_train)\n",
    "    hmm_loglik_test = compute_likelihood_HMM(Pi_hat, logliks_test)\n",
    "\n",
    "\n",
    "    train_label_acc = (rand_score(s_train_true, s_final_train), adjusted_mutual_info_score(s_train_true, s_final_train), v_measure_score(s_train_true, s_final_train))\n",
    "    test_label_acc = (rand_score(s_test_true, s_final_test), adjusted_mutual_info_score(s_test_true, s_final_test), v_measure_score(s_test_true, s_final_test))\n",
    "\n",
    "    refined_result = {'K': K_opt,\n",
    "                     'hmm_loglik_train': hmm_loglik_train,\n",
    "                     'hmm_loglik_test': hmm_loglik_test,\n",
    "                     'train_label_accuracy': train_label_acc,\n",
    "                     'test_label_accuracy': test_label_acc,\n",
    "                     'time': time1 + time0 + time2}\n",
    "    \n",
    "    return (forward_result, refined_result)"
   ]
  },
  {
   "cell_type": "code",
   "execution_count": 7,
   "id": "0a732441",
   "metadata": {},
   "outputs": [
    {
     "name": "stdout",
     "output_type": "stream",
     "text": [
      "total time taken: 59.04\n"
     ]
    }
   ],
   "source": [
    "import time\n",
    "import warnings\n",
    "warnings.simplefilter(\"ignore\", category=ConvergenceWarning)\n",
    "\n",
    "time_start = time.time()\n",
    "results = demo1_2d(T=100, n=50, sigma2=1)\n",
    "time_end = time.time()\n",
    "print('total time taken:', np.round(time_end - time_start, 2))"
   ]
  },
  {
   "cell_type": "code",
   "execution_count": 8,
   "id": "1bff3518",
   "metadata": {},
   "outputs": [
    {
     "data": {
      "text/plain": [
       "({'K': 23,\n",
       "  'hmm_loglik_train': -14123.444808920882,\n",
       "  'hmm_loglik_test': -7446.305670246069,\n",
       "  'train_label_accuracy': (0.9557575757575758,\n",
       "   0.800767515094084,\n",
       "   0.8622879125452052),\n",
       "  'test_label_accuracy': (0.9804081632653061,\n",
       "   0.9151281092447017,\n",
       "   0.9494254488754172),\n",
       "  'time': 30.497332096099854},\n",
       " {'K': 9,\n",
       "  'hmm_loglik_train': -14041.288394095422,\n",
       "  'hmm_loglik_test': -7289.28373413006,\n",
       "  'train_label_accuracy': (0.9854545454545455,\n",
       "   0.9582888841920884,\n",
       "   0.9657784089291803),\n",
       "  'test_label_accuracy': (1.0, 1.0, 1.0),\n",
       "  'time': 43.53420400619507})"
      ]
     },
     "execution_count": 8,
     "metadata": {},
     "output_type": "execute_result"
    }
   ],
   "source": [
    "results # run on local machine"
   ]
  },
  {
   "cell_type": "code",
   "execution_count": null,
   "id": "8f89b20a",
   "metadata": {},
   "outputs": [],
   "source": []
  },
  {
   "cell_type": "code",
   "execution_count": 10,
   "id": "2c518ce1",
   "metadata": {},
   "outputs": [
    {
     "name": "stdout",
     "output_type": "stream",
     "text": [
      "working rep  0\n",
      "working rep  1\n",
      "working rep  2\n",
      "working rep  3\n",
      "working rep  4\n",
      "working rep  5\n",
      "working rep  6\n",
      "working rep  7\n",
      "working rep  8\n",
      "working rep  9\n",
      "working rep  10\n",
      "working rep  11\n",
      "working rep  12\n",
      "working rep  13\n",
      "working rep  14\n",
      "working rep  15\n",
      "working rep  16\n",
      "working rep  17\n",
      "working rep  18\n",
      "working rep  19\n",
      "working rep  20\n",
      "working rep  21\n",
      "working rep  22\n",
      "working rep  23\n",
      "working rep  24\n",
      "working rep  25\n",
      "working rep  26\n",
      "working rep  27\n",
      "working rep  28\n",
      "working rep  29\n"
     ]
    }
   ],
   "source": [
    "# run on cluster with 20 cores\n",
    "import pickle\n",
    "from tqdm import tqdm\n",
    "results = []\n",
    "\n",
    "for rep in range(30):\n",
    "    print('working rep ', rep)\n",
    "    res = demo1_2d(T=100, n=50, sigma2=1)\n",
    "    results.append(res)\n",
    "    \n",
    "pickle.dump(results, open( \"new_simulation_results/demo1.p\", \"wb\" ) )"
   ]
  },
  {
   "cell_type": "code",
   "execution_count": null,
   "id": "b5e25b56",
   "metadata": {},
   "outputs": [],
   "source": []
  },
  {
   "cell_type": "code",
   "execution_count": 12,
   "id": "b7144385",
   "metadata": {},
   "outputs": [
    {
     "data": {
      "image/png": "[encoded data removed]",
      "text/plain": [
       "<Figure size 1152x864 with 4 Axes>"
      ]
     },
     "metadata": {},
     "output_type": "display_data"
    }
   ],
   "source": [
    "import pandas as pd\n",
    "import seaborn as sns\n",
    "\n",
    "rep = 30\n",
    "NMI_train_forward = [results[i][0]['train_label_accuracy'][1] for i in range(rep)]\n",
    "NMI_test_forward = [results[i][0]['test_label_accuracy'][1] for i in range(rep)]\n",
    "\n",
    "NMI_train_ref = [results[i][1]['train_label_accuracy'][1] for i in range(rep)]\n",
    "NMI_test_ref = [results[i][1]['test_label_accuracy'][1] for i in range(rep)]\n",
    "\n",
    "v_train_forward = [results[i][0]['train_label_accuracy'][2] for i in range(rep)]\n",
    "v_test_forward = [results[i][0]['test_label_accuracy'][2] for i in range(rep)]\n",
    "\n",
    "v_train_ref = [results[i][1]['train_label_accuracy'][2] for i in range(rep)]\n",
    "v_test_ref = [results[i][1]['test_label_accuracy'][2] for i in range(rep)]\n",
    "\n",
    "\n",
    "\n",
    "df = pd.DataFrame({'NMI_train': np.append(NMI_train_forward, NMI_train_ref),\n",
    "                   'NMI_test': np.append(NMI_test_forward, NMI_test_ref),\n",
    "                   'v_train': np.append(v_train_forward, v_train_ref),\n",
    "                   'v_test': np.append(v_test_forward, v_test_ref),\n",
    "                  'method': ['forward']*rep + ['refined']*rep})\n",
    "\n",
    "fig = plt.figure(figsize=(16, 12))\n",
    "\n",
    "plt.subplot(2,2,1).set_title('NMI on training')\n",
    "sns.boxplot( x=df[\"NMI_train\"], y=df[\"method\"])\n",
    "\n",
    "plt.subplot(2,2,2).set_title('NMI on test')\n",
    "sns.boxplot( x=df[\"NMI_test\"], y=df[\"method\"])\n",
    "\n",
    "plt.subplot(2,2,3).set_title('V score on test')\n",
    "sns.boxplot( x=df[\"v_train\"], y=df[\"method\"])\n",
    "\n",
    "plt.subplot(2,2,4).set_title('V score on test')\n",
    "sns.boxplot( x=df[\"v_test\"], y=df[\"method\"])\n",
    "\n",
    "plt.show()"
   ]
  },
  {
   "cell_type": "code",
   "execution_count": 15,
   "id": "af74406e",
   "metadata": {},
   "outputs": [
    {
     "data": {
      "image/png": "[encoded data removed]",
      "text/plain": [
       "<Figure size 432x288 with 1 Axes>"
      ]
     },
     "metadata": {},
     "output_type": "display_data"
    }
   ],
   "source": [
    "K1 = [results[i][0]['K'] for i in range(30)]\n",
    "K2 = [results[i][1]['K'] for i in range(30)]\n",
    "\n",
    "K1 = np.array(K1)\n",
    "K2 = np.array(K2)\n",
    "\n",
    "values = np.arange(5, np.max(K1))\n",
    "K1_counts = np.array([np.sum(K1==k) for k in values])\n",
    "K2_counts = np.array([np.sum(K2==k) for k in values])\n",
    "\n",
    "plt.bar(values, K1_counts, alpha=0.5, label='forward')\n",
    "plt.bar(values, K2_counts, alpha=0.5, label='refined')\n",
    "plt.vlines(9, ymin=0, ymax=20)\n",
    "plt.legend(loc='upper right')\n",
    "plt.xlabel('number of clusters')\n",
    "plt.ylabel('count')\n",
    "plt.show()"
   ]
  },
  {
   "cell_type": "code",
   "execution_count": null,
   "id": "35b96418",
   "metadata": {},
   "outputs": [],
   "source": []
  },
  {
   "cell_type": "code",
   "execution_count": 29,
   "id": "0c52b201",
   "metadata": {},
   "outputs": [
    {
     "data": {
      "text/plain": [
       "-0.0006865661190992325"
      ]
     },
     "execution_count": 29,
     "metadata": {},
     "output_type": "execute_result"
    }
   ],
   "source": [
    "np.min(NMI_train_forward)"
   ]
  },
  {
   "cell_type": "code",
   "execution_count": null,
   "id": "48b95584",
   "metadata": {},
   "outputs": [],
   "source": []
  }
 ],
 "metadata": {
  "kernelspec": {
   "display_name": "Python 3 (ipykernel)",
   "language": "python",
   "name": "python3"
  },
  "language_info": {
   "codemirror_mode": {
    "name": "ipython",
    "version": 3
   },
   "file_extension": ".py",
   "mimetype": "text/x-python",
   "name": "python",
   "nbconvert_exporter": "python",
   "pygments_lexer": "ipython3",
   "version": "3.7.4"
  }
 },
 "nbformat": 4,
 "nbformat_minor": 5
}
